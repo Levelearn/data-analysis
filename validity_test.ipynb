{
  "nbformat": 4,
  "nbformat_minor": 0,
  "metadata": {
    "colab": {
      "provenance": [],
      "authorship_tag": "ABX9TyMphYje02l9+DLPN/Tb1j7U",
      "include_colab_link": true
    },
    "kernelspec": {
      "name": "python3",
      "display_name": "Python 3"
    },
    "language_info": {
      "name": "python"
    }
  },
  "cells": [
    {
      "cell_type": "markdown",
      "metadata": {
        "id": "view-in-github",
        "colab_type": "text"
      },
      "source": [
        "<a href=\"https://colab.research.google.com/github/Levelearn/data-analysis/blob/main/validity_test.ipynb\" target=\"_parent\"><img src=\"https://colab.research.google.com/assets/colab-badge.svg\" alt=\"Open In Colab\"/></a>"
      ]
    },
    {
      "cell_type": "code",
      "source": [
        "import pandas as pd\n",
        "import numpy as np\n",
        "from scipy.stats import spearmanr\n",
        "from pingouin import cronbach_alpha"
      ],
      "metadata": {
        "id": "xTNpwcxqrfSS"
      },
      "execution_count": 5,
      "outputs": []
    },
    {
      "cell_type": "code",
      "source": [
        "from google.colab import drive\n",
        "drive.mount('/content/drive')"
      ],
      "metadata": {
        "colab": {
          "base_uri": "https://localhost:8080/"
        },
        "id": "VBG9E_I2ri89",
        "outputId": "d341bfb1-14e0-43e4-9d81-bdcaf7aa0e60"
      },
      "execution_count": 6,
      "outputs": [
        {
          "output_type": "stream",
          "name": "stdout",
          "text": [
            "Mounted at /content/drive\n"
          ]
        }
      ]
    },
    {
      "cell_type": "code",
      "source": [
        "file_path = '/content/drive/MyDrive/Levelearn/dataset_levelearn_heart.csv'\n",
        "data = pd.read_csv(file_path, encoding='latin-1', sep=';')\n",
        "\n",
        "print(data.head().to_string())"
      ],
      "metadata": {
        "colab": {
          "base_uri": "https://localhost:8080/"
        },
        "id": "LR_1T2Ndr5ak",
        "outputId": "97068a13-a2a6-49f2-860c-77baa0e1fef4"
      },
      "execution_count": 11,
      "outputs": [
        {
          "output_type": "stream",
          "name": "stdout",
          "text": [
            "            Timestamp                          Email                     Nama       NIM  Angkatan  Happiness_Q1  Happiness_Q2  Happiness_Q3  Happiness_Q4  Happiness_Q5  Engagement_Q1  Engagement_Q2  Engagement_Q3  Engagement_Q4  Engagement_Q5  Adoption_Q1  Adoption_Q2  Adoption_Q3  Adoption_Q4  Adoption_Q5  Retention_Q1  Retention_Q2  Retention_Q3  Retention_Q4  Retention_Q5  TaskSuccess_Q1  TaskSuccess_Q2  TaskSuccess_Q3  TaskSuccess_Q4  TaskSuccess_Q5                                                              Qualitative_Q1 Qualitative_Q2        Qualitative_Q3                                 Qualitative_Q4                                                 Feedback                                                                     Error                      Suggestion                                                                File\n",
            "0   3/26/2025 9:50:09     rafaelmanurung80@gmail.com    Rafael A. C. Manurung  11S21028      2021             5             5             5             5             5            5.0              5              5              5              5            5            5            5            5            5             5             5             5             5             5               5               5               5               5               5                                                                        test           test                  test                                           test                                                     test                                                                      test                            test                                                                 NaN\n",
            "1  3/26/2025 11:44:39  gloriapanjaitan3012@gmail.com         Gloria Panjaitan  11S23030      2023             5             4             4             5             5            4.0              4              5              5              5            5            4            4            5            5             4             5             5             4             5               4               4               5               4               5                                                                 Leaderboard          Tidak                 Tidak                         Lebih seru dan menarik                                          Sudah di upload                                                           Sudah di upload  Menambahkan animasi sederhana   https://drive.google.com/open?id=1UWwnVxfv8Sn8ZQbQsYtSfMhmIKi1MPTy\n",
            "2  3/26/2025 11:45:03      andresaragih932@gmail.com  Andre Christian Saragih  11S23026      2023             5             5             5             5             5            5.0              5              5              5              5            5            5            5            5            5             5             5             5             5             5               5               5               5               5               5  Point\\n\\nKarena pointnya dapat ditukarkan dan dapat bermanfaat kepada saya          Tidak                 Tidak  Gamifikasi meningkatkan kualitas belajar saya                                             Sangat bagus                                                         Sudah di uppload                       Sudah baik  https://drive.google.com/open?id=1yJpmGPuwsZ1AI6cTlv6K3qufiV4-FgE0\n",
            "3  3/26/2025 11:45:24       firenoobgaming@gmail.com                    Josua  11S23033      2023             3             3             5             4             3            3.0              3              3              3              3            4            4            4            3            3             3             4             3             3             3               4               4               3               3               3                                                                Progress bar          Tidak  Tidak ada sejauh ini                                       Sama aja                                                  Di foto                                                                    Banyak                     Ada di foto  https://drive.google.com/open?id=1-51jAdyASsbI3HR1Y2psw4PY19oX-2Ek\n",
            "4  3/26/2025 11:46:16           josuaasrgh@gmail.com            Josua Saragih  11S23028      2023             5             5             4             4             4            5.0              4              4              3              4            5            4            3            2            5             5             3             4             4             4               4               4               5               3               4                                                                 Leaderboard          tidak             tidak ada     lebih seru, dan jadi berpacu untuk belajar  aplikasi nya bagus untuk memacu mahasiswa untuk belajar  1. tombol back tidak berfungsi dengan baik\\n2. jumlah benar yang nge bug       UI nya lebih menarik lagi                                                                 NaN\n"
          ]
        }
      ]
    },
    {
      "cell_type": "code",
      "source": [
        "data_likert = data[['Happiness_Q1', 'Happiness_Q2', 'Happiness_Q3', 'Happiness_Q4', 'Happiness_Q5',\n",
        "                  'Engagement_Q1', 'Engagement_Q2', 'Engagement_Q3', 'Engagement_Q4', 'Engagement_Q5',\n",
        "                  'Adoption_Q1', 'Adoption_Q2', 'Adoption_Q3', 'Adoption_Q4', 'Adoption_Q5',\n",
        "                  'Retention_Q1', 'Retention_Q2', 'Retention_Q3', 'Retention_Q4', 'Retention_Q5',\n",
        "                  'TaskSuccess_Q1', 'TaskSuccess_Q2', 'TaskSuccess_Q3', 'TaskSuccess_Q4', 'TaskSuccess_Q5',\n",
        "                  ]]"
      ],
      "metadata": {
        "id": "nkqJWVku8Sl2"
      },
      "execution_count": 12,
      "outputs": []
    },
    {
      "cell_type": "code",
      "source": [
        "happiness_cols = ['Happiness_Q1', 'Happiness_Q2', 'Happiness_Q3', 'Happiness_Q4', 'Happiness_Q5']\n",
        "engagement_cols = ['Engagement_Q1', 'Engagement_Q2', 'Engagement_Q3', 'Engagement_Q4', 'Engagement_Q5']\n",
        "adoption_cols = ['Adoption_Q1', 'Adoption_Q2', 'Adoption_Q3', 'Adoption_Q4', 'Adoption_Q5']\n",
        "retention_cols = ['Retention_Q1', 'Retention_Q2', 'Retention_Q3', 'Retention_Q4', 'Retention_Q5']\n",
        "task_success_cols = ['TaskSuccess_Q1', 'TaskSuccess_Q2', 'TaskSuccess_Q3', 'TaskSuccess_Q4', 'TaskSuccess_Q5']\n",
        "\n",
        "data['Happiness_Total'] = data[happiness_cols].sum(axis=1)\n",
        "data['Engagement_Total'] = data[engagement_cols].sum(axis=1)\n",
        "data['Adoption_Total'] = data[adoption_cols].sum(axis=1)\n",
        "data['Retention_Total'] = data[retention_cols].sum(axis=1)\n",
        "data['Task_Success_Total'] = data[task_success_cols].sum(axis=1)\n"
      ],
      "metadata": {
        "id": "aHjMvQaN9MjZ"
      },
      "execution_count": 13,
      "outputs": []
    },
    {
      "cell_type": "code",
      "source": [
        "print(\"\\nHasil Uji Validitas (Korelasi Spearman):\")\n",
        "\n",
        "# Uji validitas untuk aspek Happiness\n",
        "for col in happiness_cols:\n",
        "    correlation, p_value = spearmanr(data[col], data['Happiness_Total'])\n",
        "    print(f\"Korelasi Spearman antara {col} dan Happiness_Total: {correlation:.3f} (p-value: {p_value:.3f})\")\n",
        "\n",
        "# Uji validitas untuk aspek Engagement\n",
        "for col in engagement_cols:\n",
        "    correlation, p_value = spearmanr(data[col], data['Engagement_Total'])\n",
        "    print(f\"Korelasi Spearman antara {col} dan Engagement_Total: {correlation:.3f} (p-value: {p_value:.3f})\")\n",
        "\n",
        "# Uji validitas untuk aspek Adoption\n",
        "for col in adoption_cols:\n",
        "    correlation, p_value = spearmanr(data[col], data['Adoption_Total'])\n",
        "    print(f\"Korelasi Spearman antara {col} dan Adoption_Total: {correlation:.3f} (p-value: {p_value:.3f})\")\n",
        "\n",
        "# Uji validitas untuk aspek Retention\n",
        "for col in retention_cols:\n",
        "    correlation, p_value = spearmanr(data[col], data['Retention_Total'])\n",
        "    print(f\"Korelasi Spearman antara {col} dan Retention_Total: {correlation:.3f} (p-value: {p_value:.3f})\")\n",
        "\n",
        "# Uji validitas untuk aspek Task Success\n",
        "for col in task_success_cols:\n",
        "    correlation, p_value = spearmanr(data[col], data['Task_Success_Total'])\n",
        "    print(f\"Korelasi Spearman antara {col} dan Task_Success_Total: {correlation:.3f} (p-value: {p_value:.3f})\")"
      ],
      "metadata": {
        "colab": {
          "base_uri": "https://localhost:8080/"
        },
        "id": "rpVQfcKi9SG0",
        "outputId": "3c82d1e7-3c37-41d7-ca89-dbf6fe0165bf"
      },
      "execution_count": 14,
      "outputs": [
        {
          "output_type": "stream",
          "name": "stdout",
          "text": [
            "\n",
            "Hasil Uji Validitas (Korelasi Spearman):\n",
            "Korelasi Spearman antara Happiness_Q1 dan Happiness_Total: 0.720 (p-value: 0.000)\n",
            "Korelasi Spearman antara Happiness_Q2 dan Happiness_Total: 0.786 (p-value: 0.000)\n",
            "Korelasi Spearman antara Happiness_Q3 dan Happiness_Total: 0.659 (p-value: 0.000)\n",
            "Korelasi Spearman antara Happiness_Q4 dan Happiness_Total: 0.770 (p-value: 0.000)\n",
            "Korelasi Spearman antara Happiness_Q5 dan Happiness_Total: 0.705 (p-value: 0.000)\n",
            "Korelasi Spearman antara Engagement_Q1 dan Engagement_Total: nan (p-value: nan)\n",
            "Korelasi Spearman antara Engagement_Q2 dan Engagement_Total: 0.711 (p-value: 0.000)\n",
            "Korelasi Spearman antara Engagement_Q3 dan Engagement_Total: 0.707 (p-value: 0.000)\n",
            "Korelasi Spearman antara Engagement_Q4 dan Engagement_Total: 0.710 (p-value: 0.000)\n",
            "Korelasi Spearman antara Engagement_Q5 dan Engagement_Total: 0.764 (p-value: 0.000)\n",
            "Korelasi Spearman antara Adoption_Q1 dan Adoption_Total: 0.697 (p-value: 0.000)\n",
            "Korelasi Spearman antara Adoption_Q2 dan Adoption_Total: 0.772 (p-value: 0.000)\n",
            "Korelasi Spearman antara Adoption_Q3 dan Adoption_Total: 0.806 (p-value: 0.000)\n",
            "Korelasi Spearman antara Adoption_Q4 dan Adoption_Total: 0.640 (p-value: 0.000)\n",
            "Korelasi Spearman antara Adoption_Q5 dan Adoption_Total: 0.846 (p-value: 0.000)\n",
            "Korelasi Spearman antara Retention_Q1 dan Retention_Total: 0.680 (p-value: 0.000)\n",
            "Korelasi Spearman antara Retention_Q2 dan Retention_Total: 0.709 (p-value: 0.000)\n",
            "Korelasi Spearman antara Retention_Q3 dan Retention_Total: 0.738 (p-value: 0.000)\n",
            "Korelasi Spearman antara Retention_Q4 dan Retention_Total: 0.792 (p-value: 0.000)\n",
            "Korelasi Spearman antara Retention_Q5 dan Retention_Total: 0.818 (p-value: 0.000)\n",
            "Korelasi Spearman antara TaskSuccess_Q1 dan Task_Success_Total: 0.825 (p-value: 0.000)\n",
            "Korelasi Spearman antara TaskSuccess_Q2 dan Task_Success_Total: 0.856 (p-value: 0.000)\n",
            "Korelasi Spearman antara TaskSuccess_Q3 dan Task_Success_Total: 0.750 (p-value: 0.000)\n",
            "Korelasi Spearman antara TaskSuccess_Q4 dan Task_Success_Total: 0.855 (p-value: 0.000)\n",
            "Korelasi Spearman antara TaskSuccess_Q5 dan Task_Success_Total: 0.848 (p-value: 0.000)\n"
          ]
        }
      ]
    },
    {
      "cell_type": "markdown",
      "source": [
        "**02. Reliability Test** *(Cronbach Aplha)*"
      ],
      "metadata": {
        "id": "TrJ5kEce95ln"
      }
    },
    {
      "cell_type": "code",
      "source": [
        "def cronbach_alpha(df):\n",
        "    \"\"\"Menghitung Cronbach Alpha untuk sebuah set item.\"\"\"\n",
        "    n_items = len(df.columns)\n",
        "    sum_variances = df.var(axis=0).sum()\n",
        "    total_variance = df.sum(axis=1).var()\n",
        "    alpha = (n_items / (n_items - 1)) * (1 - (sum_variances / total_variance))\n",
        "    return alpha\n",
        "\n",
        "print(\"\\nHasil Uji Reliabilitas (Cronbach Alpha):\")\n",
        "\n",
        "# Hitung Cronbach Alpha untuk setiap aspek HEART\n",
        "alpha_happiness = cronbach_alpha(data[happiness_cols])\n",
        "print(f\"Cronbach Alpha untuk Aspek Happiness: {alpha_happiness:.3f}\")\n",
        "\n",
        "alpha_engagement = cronbach_alpha(data[engagement_cols])\n",
        "print(f\"Cronbach Alpha untuk Aspek Engagement: {alpha_engagement:.3f}\")\n",
        "\n",
        "alpha_adoption = cronbach_alpha(data[adoption_cols])\n",
        "print(f\"Cronbach Alpha untuk Aspek Adoption: {alpha_adoption:.3f}\")\n",
        "\n",
        "alpha_retention = cronbach_alpha(data[retention_cols])\n",
        "print(f\"Cronbach Alpha untuk Aspek Retention: {alpha_retention:.3f}\")\n",
        "\n",
        "alpha_task_success = cronbach_alpha(data[task_success_cols])\n",
        "print(f\"Cronbach Alpha untuk Aspek Task Success: {alpha_task_success:.3f}\")"
      ],
      "metadata": {
        "colab": {
          "base_uri": "https://localhost:8080/"
        },
        "id": "l9kRnaTN9saD",
        "outputId": "326b20fb-4bdb-4bc9-c9e8-0ef1a43cbb46"
      },
      "execution_count": 15,
      "outputs": [
        {
          "output_type": "stream",
          "name": "stdout",
          "text": [
            "\n",
            "Hasil Uji Reliabilitas (Cronbach Alpha):\n",
            "Cronbach Alpha untuk Aspek Happiness: 0.803\n",
            "Cronbach Alpha untuk Aspek Engagement: 0.766\n",
            "Cronbach Alpha untuk Aspek Adoption: 0.795\n",
            "Cronbach Alpha untuk Aspek Retention: 0.815\n",
            "Cronbach Alpha untuk Aspek Task Success: 0.889\n"
          ]
        }
      ]
    }
  ]
}